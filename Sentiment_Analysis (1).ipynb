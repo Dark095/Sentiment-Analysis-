{
  "nbformat": 4,
  "nbformat_minor": 0,
  "metadata": {
    "colab": {
      "provenance": []
    },
    "kernelspec": {
      "name": "python3",
      "display_name": "Python 3"
    },
    "language_info": {
      "name": "python"
    }
  },
  "cells": [
    {
      "cell_type": "code",
      "execution_count": null,
      "metadata": {
        "id": "rx8JhDt5EbJ_",
        "colab": {
          "base_uri": "https://localhost:8080/"
        },
        "outputId": "37fed2c8-5787-4519-d7c4-5795c9ce5235"
      },
      "outputs": [
        {
          "output_type": "stream",
          "name": "stdout",
          "text": [
            "Enter a sentence: its a good day\n",
            "Sentiment: Positive\n"
          ]
        }
      ],
      "source": [
        "import string\n",
        "from nltk.tokenize import word_tokenize\n",
        "from nltk.corpus import stopwords\n",
        "from nltk.stem import PorterStemmer\n",
        "#!pip install nltk\n",
        "import nltk\n",
        "#nltk.download('punkt')\n",
        "#nltk.download('stopwords')\n",
        "\n",
        "def preprocess_text(text):\n",
        "\n",
        "    text = text.lower()\n",
        "    text = text.translate(str.maketrans('', '', string.punctuation))\n",
        "    return text\n",
        "\n",
        "def sentiment_analysis(sentence):\n",
        "\n",
        "    positive_words = ['good','like', 'great', 'excellent', 'happy', 'joyful', 'amazing', 'awesome', 'wonderful', 'fantastic', 'superb']\n",
        "    negative_words = ['bad', 'terrible', 'horrible', 'sad', 'unhappy', 'awful', 'miserable', 'disappointing', 'dreadful', 'lousy']\n",
        "\n",
        "    sentence = preprocess_text(sentence)\n",
        "\n",
        "    words = word_tokenize(sentence)\n",
        "\n",
        "    sentiment_score = 0\n",
        "\n",
        "    stemmer = PorterStemmer()\n",
        "    stop_words = set(stopwords.words('english'))\n",
        "\n",
        "\n",
        "    for word in words:\n",
        "\n",
        "        stemmed_word = stemmer.stem(word)\n",
        "\n",
        "        if stemmed_word not in stop_words:\n",
        "            if stemmed_word in positive_words:\n",
        "                sentiment_score += 1\n",
        "            elif stemmed_word in negative_words:\n",
        "                sentiment_score -= 1\n",
        "\n",
        "    if sentiment_score > 0:\n",
        "        return \"Positive\"\n",
        "    elif sentiment_score < 0:\n",
        "        return \"Negative\"\n",
        "    else:\n",
        "        return \"Neutral\"\n",
        "\n",
        "sentence = input(\"Enter a sentence: \")\n",
        "sentiment = sentiment_analysis(sentence)\n",
        "print(\"Sentiment:\", sentiment)"
      ]
    },
    {
      "cell_type": "code",
      "source": [
        "import string\n",
        "from nltk.tokenize import word_tokenize\n",
        "from nltk.corpus import stopwords\n",
        "from nltk.stem import PorterStemmer\n",
        "from nltk.stem import WordNetLemmatizer\n",
        "import nltk\n",
        "nltk.download('punkt')\n",
        "nltk.download('stopwords')\n",
        "nltk.download('wordnet')\n",
        "def preprocess_text(text):\n",
        "\n",
        "    text = text.capitalize()\n",
        "    text = text.translate(str.maketrans('', '', string.punctuation))\n",
        "    return text\n",
        "def preprocess_text(text):\n",
        "    text = text.lower()  # Convert to lowercase\n",
        "    text = text.translate(str.maketrans('', '', string.punctuation))  # Remove punctuation\n",
        "    return text\n",
        "\n",
        "def sentiment_analysis(sentence):\n",
        "    positive_cues = {'good', 'great', 'excellent', 'happy', 'amazing', 'awesome', 'wonderful', 'fantastic', 'superb',\n",
        "                     'love', 'like', 'best', 'glad', 'joyful', 'satisfying', 'pleasing', 'ideal', 'delightful', 'super'}\n",
        "    negative_cues = {'bad', 'terrible', 'horrible', 'sad', 'awful', 'miserable', 'disappointing', 'dreadful', 'lousy', 'hate', 'dislike', 'worst', 'unhappy', 'displeased', 'disgusting', 'angry', 'annoyed', 'frustrating', 'stressful', 'upset'}\n",
        "\n",
        "    sentence = preprocess_text(sentence)\n",
        "    words = sentence.split()\n",
        "    sentiment_score = 0\n",
        "    negate = False\n",
        "\n",
        "    for word in words:\n",
        "        if word == 'not':\n",
        "            negate = True\n",
        "        elif word in positive_cues:\n",
        "            sentiment_score += 1 if not negate else -1\n",
        "        elif word in negative_cues:\n",
        "            sentiment_score -= 1 if not negate else 1\n",
        "\n",
        "    if sentiment_score > 0:\n",
        "        return \"The sentiment of the sentence is positive.\"\n",
        "    elif sentiment_score < 0:\n",
        "        return \"The sentiment of the sentence is negative.\"\n",
        "    else:\n",
        "        return \"The sentiment of the sentence is neutral.\"\n",
        "\n",
        "sentence = input(\"Enter a sentence: \")\n",
        "sentiment = sentiment_analysis(sentence)\n",
        "\n",
        "print(sentiment)"
      ],
      "metadata": {
        "id": "_Jyt1BGTXr-s",
        "colab": {
          "base_uri": "https://localhost:8080/"
        },
        "outputId": "4fe3cff5-d560-45b0-d24c-4446009e01e1"
      },
      "execution_count": null,
      "outputs": [
        {
          "output_type": "stream",
          "name": "stderr",
          "text": [
            "[nltk_data] Downloading package punkt to /root/nltk_data...\n",
            "[nltk_data]   Package punkt is already up-to-date!\n",
            "[nltk_data] Downloading package stopwords to /root/nltk_data...\n",
            "[nltk_data]   Package stopwords is already up-to-date!\n",
            "[nltk_data] Downloading package wordnet to /root/nltk_data...\n",
            "[nltk_data]   Package wordnet is already up-to-date!\n"
          ]
        },
        {
          "output_type": "stream",
          "name": "stdout",
          "text": [
            "Enter a sentence: i am not so happy and joyful\n",
            "The sentiment of the sentence is negative.\n"
          ]
        }
      ]
    }
  ]
}